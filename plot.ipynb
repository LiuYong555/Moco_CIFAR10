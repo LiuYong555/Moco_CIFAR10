{
 "cells": [
  {
   "cell_type": "code",
   "execution_count": 6,
   "id": "91117107-becf-43aa-8703-ca027380f932",
   "metadata": {},
   "outputs": [],
   "source": [
    "import numpy as np\n",
    "import pandas as pd\n",
    "import matplotlib.pyplot as plt"
   ]
  },
  {
   "cell_type": "code",
   "execution_count": 8,
   "id": "fccff12a-de28-4065-86ab-7cac753f95ee",
   "metadata": {},
   "outputs": [],
   "source": [
    "log1 = pd.read_csv('results/log.csv')"
   ]
  },
  {
   "cell_type": "code",
   "execution_count": 15,
   "id": "3ca13ee5-c871-4d31-87f6-7b928b010f1b",
   "metadata": {},
   "outputs": [
    {
     "data": {
      "image/png": "[encoded data removed]",
      "text/plain": [
       "<Figure size 432x288 with 1 Axes>"
      ]
     },
     "metadata": {
      "needs_background": "light"
     },
     "output_type": "display_data"
    }
   ],
   "source": [
    "plt.plot(log1['epoch'],log1['train_loss'])\n",
    "plt.xlabel('Epoch')\n",
    "plt.ylabel('Train Loss')\n",
    "plt.savefig('results/imgs/trainloss1.jpg')"
   ]
  },
  {
   "cell_type": "code",
   "execution_count": 16,
   "id": "9030ccd9-b416-453d-9fae-63a752cb0198",
   "metadata": {},
   "outputs": [],
   "source": [
    "log2 = pd.read_csv('results/linear_log.csv')"
   ]
  },
  {
   "cell_type": "code",
   "execution_count": 22,
   "id": "9be39801-5954-445f-81aa-34e8613626ed",
   "metadata": {},
   "outputs": [
    {
     "data": {
      "image/png": "[encoded data removed]",
      "text/plain": [
       "<Figure size 432x288 with 1 Axes>"
      ]
     },
     "metadata": {
      "needs_background": "light"
     },
     "output_type": "display_data"
    }
   ],
   "source": [
    "plt.plot(log2['epoch'], log2['train_loss'], label='Train Loss')\n",
    "plt.plot(log2['epoch'], log2['test_loss'], label='Test Loss')\n",
    "plt.xlabel('Epoch')\n",
    "plt.ylabel('Loss')\n",
    "plt.legend()\n",
    "plt.savefig('results/imgs/loss2.jpg')"
   ]
  },
  {
   "cell_type": "code",
   "execution_count": 23,
   "id": "cc2efa78-5d5e-4885-bf2e-076da93cb0fa",
   "metadata": {},
   "outputs": [
    {
     "data": {
      "text/html": [
       "<div>\n",
       "<style scoped>\n",
       "    .dataframe tbody tr th:only-of-type {\n",
       "        vertical-align: middle;\n",
       "    }\n",
       "\n",
       "    .dataframe tbody tr th {\n",
       "        vertical-align: top;\n",
       "    }\n",
       "\n",
       "    .dataframe thead th {\n",
       "        text-align: right;\n",
       "    }\n",
       "</style>\n",
       "<table border=\"1\" class=\"dataframe\">\n",
       "  <thead>\n",
       "    <tr style=\"text-align: right;\">\n",
       "      <th></th>\n",
       "      <th>epoch</th>\n",
       "      <th>train_loss</th>\n",
       "      <th>train_acc</th>\n",
       "      <th>test_loss</th>\n",
       "      <th>test_acc</th>\n",
       "    </tr>\n",
       "  </thead>\n",
       "  <tbody>\n",
       "    <tr>\n",
       "      <th>0</th>\n",
       "      <td>1</td>\n",
       "      <td>2.267370</td>\n",
       "      <td>35.593186</td>\n",
       "      <td>2.224978</td>\n",
       "      <td>60.820312</td>\n",
       "    </tr>\n",
       "    <tr>\n",
       "      <th>1</th>\n",
       "      <td>2</td>\n",
       "      <td>2.181434</td>\n",
       "      <td>65.806218</td>\n",
       "      <td>2.142652</td>\n",
       "      <td>69.677734</td>\n",
       "    </tr>\n",
       "    <tr>\n",
       "      <th>2</th>\n",
       "      <td>3</td>\n",
       "      <td>2.101901</td>\n",
       "      <td>68.896988</td>\n",
       "      <td>2.067375</td>\n",
       "      <td>70.224609</td>\n",
       "    </tr>\n",
       "    <tr>\n",
       "      <th>3</th>\n",
       "      <td>4</td>\n",
       "      <td>2.028389</td>\n",
       "      <td>69.877577</td>\n",
       "      <td>1.997821</td>\n",
       "      <td>71.054688</td>\n",
       "    </tr>\n",
       "    <tr>\n",
       "      <th>4</th>\n",
       "      <td>5</td>\n",
       "      <td>1.961886</td>\n",
       "      <td>70.246053</td>\n",
       "      <td>1.934536</td>\n",
       "      <td>70.937500</td>\n",
       "    </tr>\n",
       "    <tr>\n",
       "      <th>...</th>\n",
       "      <td>...</td>\n",
       "      <td>...</td>\n",
       "      <td>...</td>\n",
       "      <td>...</td>\n",
       "      <td>...</td>\n",
       "    </tr>\n",
       "    <tr>\n",
       "      <th>195</th>\n",
       "      <td>196</td>\n",
       "      <td>1.245317</td>\n",
       "      <td>71.790432</td>\n",
       "      <td>1.226191</td>\n",
       "      <td>72.812500</td>\n",
       "    </tr>\n",
       "    <tr>\n",
       "      <th>196</th>\n",
       "      <td>197</td>\n",
       "      <td>1.245407</td>\n",
       "      <td>71.685728</td>\n",
       "      <td>1.226191</td>\n",
       "      <td>72.812500</td>\n",
       "    </tr>\n",
       "    <tr>\n",
       "      <th>197</th>\n",
       "      <td>198</td>\n",
       "      <td>1.245579</td>\n",
       "      <td>71.693782</td>\n",
       "      <td>1.226191</td>\n",
       "      <td>72.812500</td>\n",
       "    </tr>\n",
       "    <tr>\n",
       "      <th>198</th>\n",
       "      <td>199</td>\n",
       "      <td>1.248777</td>\n",
       "      <td>71.474307</td>\n",
       "      <td>1.226191</td>\n",
       "      <td>72.812500</td>\n",
       "    </tr>\n",
       "    <tr>\n",
       "      <th>199</th>\n",
       "      <td>200</td>\n",
       "      <td>1.244862</td>\n",
       "      <td>71.677674</td>\n",
       "      <td>1.226191</td>\n",
       "      <td>72.812500</td>\n",
       "    </tr>\n",
       "  </tbody>\n",
       "</table>\n",
       "<p>200 rows × 5 columns</p>\n",
       "</div>"
      ],
      "text/plain": [
       "     epoch  train_loss  train_acc  test_loss   test_acc\n",
       "0        1    2.267370  35.593186   2.224978  60.820312\n",
       "1        2    2.181434  65.806218   2.142652  69.677734\n",
       "2        3    2.101901  68.896988   2.067375  70.224609\n",
       "3        4    2.028389  69.877577   1.997821  71.054688\n",
       "4        5    1.961886  70.246053   1.934536  70.937500\n",
       "..     ...         ...        ...        ...        ...\n",
       "195    196    1.245317  71.790432   1.226191  72.812500\n",
       "196    197    1.245407  71.685728   1.226191  72.812500\n",
       "197    198    1.245579  71.693782   1.226191  72.812500\n",
       "198    199    1.248777  71.474307   1.226191  72.812500\n",
       "199    200    1.244862  71.677674   1.226191  72.812500\n",
       "\n",
       "[200 rows x 5 columns]"
      ]
     },
     "execution_count": 23,
     "metadata": {},
     "output_type": "execute_result"
    }
   ],
   "source": [
    "log2"
   ]
  },
  {
   "cell_type": "code",
   "execution_count": 27,
   "id": "927e5525-a4a7-493d-840a-cb8a5ff287c4",
   "metadata": {},
   "outputs": [
    {
     "data": {
      "image/png": "[encoded data removed]",
      "text/plain": [
       "<Figure size 432x288 with 1 Axes>"
      ]
     },
     "metadata": {
      "needs_background": "light"
     },
     "output_type": "display_data"
    }
   ],
   "source": [
    "plt.plot(log2['epoch'], log2['train_acc'], label='Train acc')\n",
    "plt.plot(log2['epoch'], log2['test_acc'], label='Test acc')\n",
    "plt.xlabel('Epoch')\n",
    "plt.ylabel('Accuarcy')\n",
    "plt.legend()\n",
    "plt.savefig('results/imgs/acc.jpg')"
   ]
  }
 ],
 "metadata": {
  "kernelspec": {
   "display_name": "Python 3 (ipykernel)",
   "language": "python",
   "name": "python3"
  },
  "language_info": {
   "codemirror_mode": {
    "name": "ipython",
    "version": 3
   },
   "file_extension": ".py",
   "mimetype": "text/x-python",
   "name": "python",
   "nbconvert_exporter": "python",
   "pygments_lexer": "ipython3",
   "version": "3.8.10"
  }
 },
 "nbformat": 4,
 "nbformat_minor": 5
}
